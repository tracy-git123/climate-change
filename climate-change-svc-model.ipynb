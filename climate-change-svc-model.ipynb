{
 "cells": [
  {
   "cell_type": "code",
   "execution_count": 1,
   "metadata": {
    "_cell_guid": "b1076dfc-b9ad-4769-8c92-a6c4dae69d19",
    "_uuid": "8f2839f25d086af736a60e9eeb907d3b93b6e0e5",
    "execution": {
     "iopub.execute_input": "2020-10-16T02:54:12.139217Z",
     "iopub.status.busy": "2020-10-16T02:54:12.138026Z",
     "iopub.status.idle": "2020-10-16T02:54:12.142651Z",
     "shell.execute_reply": "2020-10-16T02:54:12.143218Z"
    },
    "papermill": {
     "duration": 0.048821,
     "end_time": "2020-10-16T02:54:12.143415",
     "exception": false,
     "start_time": "2020-10-16T02:54:12.094594",
     "status": "completed"
    },
    "tags": []
   },
   "outputs": [
    {
     "name": "stdout",
     "output_type": "stream",
     "text": [
      "/kaggle/input/climate-change-edsa2020-21/train.csv\n",
      "/kaggle/input/climate-change-edsa2020-21/test.csv\n",
      "/kaggle/input/climate-change-edsa2020-21/sample_submission.csv\n"
     ]
    }
   ],
   "source": [
    "# This Python 3 environment comes with many helpful analytics libraries installed\n",
    "# It is defined by the kaggle/python Docker image: https://github.com/kaggle/docker-python\n",
    "# For example, here's several helpful packages to load\n",
    "\n",
    "import numpy as np # linear algebra\n",
    "import pandas as pd # data processing, CSV file I/O (e.g. pd.read_csv)\n",
    "\n",
    "# Input data files are available in the read-only \"../input/\" directory\n",
    "# For example, running this (by clicking run or pressing Shift+Enter) will list all files under the input directory\n",
    "\n",
    "import os\n",
    "for dirname, _, filenames in os.walk('/kaggle/input'):\n",
    "    for filename in filenames:\n",
    "        print(os.path.join(dirname, filename))\n",
    "\n",
    "# You can write up to 5GB to the current directory (/kaggle/working/) that gets preserved as output when you create a version using \"Save & Run All\" \n",
    "# You can also write temporary files to /kaggle/temp/, but they won't be saved outside of the current session"
   ]
  },
  {
   "cell_type": "code",
   "execution_count": 2,
   "metadata": {
    "execution": {
     "iopub.execute_input": "2020-10-16T02:54:12.232275Z",
     "iopub.status.busy": "2020-10-16T02:54:12.231388Z",
     "iopub.status.idle": "2020-10-16T02:54:14.414098Z",
     "shell.execute_reply": "2020-10-16T02:54:14.413381Z"
    },
    "papermill": {
     "duration": 2.232087,
     "end_time": "2020-10-16T02:54:14.414241",
     "exception": false,
     "start_time": "2020-10-16T02:54:12.182154",
     "status": "completed"
    },
    "tags": []
   },
   "outputs": [],
   "source": [
    "import pandas as pd\n",
    "import numpy as np\n",
    "import nltk\n",
    "import string\n",
    "import re\n",
    "from sklearn.feature_extraction.text import TfidfVectorizer\n",
    "from sklearn.linear_model import LogisticRegression\n",
    "from sklearn.naive_bayes import MultinomialNB\n",
    "from sklearn.ensemble import RandomForestClassifier, AdaBoostClassifier\n",
    "from sklearn.svm import LinearSVC\n",
    "from sklearn.model_selection import train_test_split\n",
    "from sklearn.naive_bayes import MultinomialNB\n",
    "from nltk.stem import WordNetLemmatizer\n",
    "from nltk.corpus import stopwords\n",
    "\n",
    "from sklearn.metrics import f1_score\n",
    "\n",
    "import seaborn as sns\n",
    "import matplotlib.pyplot as plt\n",
    "%matplotlib inline"
   ]
  },
  {
   "cell_type": "markdown",
   "metadata": {
    "papermill": {
     "duration": 0.036118,
     "end_time": "2020-10-16T02:54:14.486183",
     "exception": false,
     "start_time": "2020-10-16T02:54:14.450065",
     "status": "completed"
    },
    "tags": []
   },
   "source": [
    "# **Load and clean data**"
   ]
  },
  {
   "cell_type": "code",
   "execution_count": 3,
   "metadata": {
    "_cell_guid": "79c7e3d0-c299-4dcb-8224-4455121ee9b0",
    "_uuid": "d629ff2d2480ee46fbb7e2d37f6b5fab8052498a",
    "execution": {
     "iopub.execute_input": "2020-10-16T02:54:14.571013Z",
     "iopub.status.busy": "2020-10-16T02:54:14.570224Z",
     "iopub.status.idle": "2020-10-16T02:54:14.676297Z",
     "shell.execute_reply": "2020-10-16T02:54:14.675446Z"
    },
    "papermill": {
     "duration": 0.154873,
     "end_time": "2020-10-16T02:54:14.676433",
     "exception": false,
     "start_time": "2020-10-16T02:54:14.521560",
     "status": "completed"
    },
    "tags": []
   },
   "outputs": [],
   "source": [
    "df = pd.read_csv('/kaggle/input/climate-change-edsa2020-21/train.csv')\n",
    "df_test = pd.read_csv('/kaggle/input/climate-change-edsa2020-21/test.csv')"
   ]
  },
  {
   "cell_type": "code",
   "execution_count": 4,
   "metadata": {
    "execution": {
     "iopub.execute_input": "2020-10-16T02:54:14.763916Z",
     "iopub.status.busy": "2020-10-16T02:54:14.763125Z",
     "iopub.status.idle": "2020-10-16T02:54:14.773669Z",
     "shell.execute_reply": "2020-10-16T02:54:14.772932Z"
    },
    "papermill": {
     "duration": 0.061511,
     "end_time": "2020-10-16T02:54:14.773830",
     "exception": false,
     "start_time": "2020-10-16T02:54:14.712319",
     "status": "completed"
    },
    "tags": []
   },
   "outputs": [
    {
     "data": {
      "text/html": [
       "<div>\n",
       "<style scoped>\n",
       "    .dataframe tbody tr th:only-of-type {\n",
       "        vertical-align: middle;\n",
       "    }\n",
       "\n",
       "    .dataframe tbody tr th {\n",
       "        vertical-align: top;\n",
       "    }\n",
       "\n",
       "    .dataframe thead th {\n",
       "        text-align: right;\n",
       "    }\n",
       "</style>\n",
       "<table border=\"1\" class=\"dataframe\">\n",
       "  <thead>\n",
       "    <tr style=\"text-align: right;\">\n",
       "      <th></th>\n",
       "      <th>sentiment</th>\n",
       "      <th>message</th>\n",
       "      <th>tweetid</th>\n",
       "    </tr>\n",
       "  </thead>\n",
       "  <tbody>\n",
       "    <tr>\n",
       "      <th>0</th>\n",
       "      <td>1</td>\n",
       "      <td>PolySciMajor EPA chief doesn't think carbon di...</td>\n",
       "      <td>625221</td>\n",
       "    </tr>\n",
       "    <tr>\n",
       "      <th>1</th>\n",
       "      <td>1</td>\n",
       "      <td>It's not like we lack evidence of anthropogeni...</td>\n",
       "      <td>126103</td>\n",
       "    </tr>\n",
       "    <tr>\n",
       "      <th>2</th>\n",
       "      <td>2</td>\n",
       "      <td>RT @RawStory: Researchers say we have three ye...</td>\n",
       "      <td>698562</td>\n",
       "    </tr>\n",
       "    <tr>\n",
       "      <th>3</th>\n",
       "      <td>1</td>\n",
       "      <td>#TodayinMaker# WIRED : 2016 was a pivotal year...</td>\n",
       "      <td>573736</td>\n",
       "    </tr>\n",
       "    <tr>\n",
       "      <th>4</th>\n",
       "      <td>1</td>\n",
       "      <td>RT @SoyNovioDeTodas: It's 2016, and a racist, ...</td>\n",
       "      <td>466954</td>\n",
       "    </tr>\n",
       "  </tbody>\n",
       "</table>\n",
       "</div>"
      ],
      "text/plain": [
       "   sentiment                                            message  tweetid\n",
       "0          1  PolySciMajor EPA chief doesn't think carbon di...   625221\n",
       "1          1  It's not like we lack evidence of anthropogeni...   126103\n",
       "2          2  RT @RawStory: Researchers say we have three ye...   698562\n",
       "3          1  #TodayinMaker# WIRED : 2016 was a pivotal year...   573736\n",
       "4          1  RT @SoyNovioDeTodas: It's 2016, and a racist, ...   466954"
      ]
     },
     "execution_count": 4,
     "metadata": {},
     "output_type": "execute_result"
    }
   ],
   "source": [
    "df.head()"
   ]
  },
  {
   "cell_type": "code",
   "execution_count": 5,
   "metadata": {
    "execution": {
     "iopub.execute_input": "2020-10-16T02:54:14.858852Z",
     "iopub.status.busy": "2020-10-16T02:54:14.857790Z",
     "iopub.status.idle": "2020-10-16T02:54:14.862740Z",
     "shell.execute_reply": "2020-10-16T02:54:14.861850Z"
    },
    "papermill": {
     "duration": 0.05125,
     "end_time": "2020-10-16T02:54:14.862927",
     "exception": false,
     "start_time": "2020-10-16T02:54:14.811677",
     "status": "completed"
    },
    "tags": []
   },
   "outputs": [
    {
     "data": {
      "text/plain": [
       "15819"
      ]
     },
     "execution_count": 5,
     "metadata": {},
     "output_type": "execute_result"
    }
   ],
   "source": [
    "len(df) #number of tweets"
   ]
  },
  {
   "cell_type": "code",
   "execution_count": 6,
   "metadata": {
    "execution": {
     "iopub.execute_input": "2020-10-16T02:54:14.961613Z",
     "iopub.status.busy": "2020-10-16T02:54:14.960589Z",
     "iopub.status.idle": "2020-10-16T02:54:14.964643Z",
     "shell.execute_reply": "2020-10-16T02:54:14.965417Z"
    },
    "papermill": {
     "duration": 0.059156,
     "end_time": "2020-10-16T02:54:14.965613",
     "exception": false,
     "start_time": "2020-10-16T02:54:14.906457",
     "status": "completed"
    },
    "tags": []
   },
   "outputs": [
    {
     "name": "stdout",
     "output_type": "stream",
     "text": [
      "notiven: RT: nytimesworld :What does Trump actually believe about climate change? Rick Perry joins other aides in … https://t.co/0Mp2\n"
     ]
    }
   ],
   "source": [
    "print(df['message'][15816])"
   ]
  },
  {
   "cell_type": "code",
   "execution_count": 7,
   "metadata": {
    "execution": {
     "iopub.execute_input": "2020-10-16T02:54:15.067404Z",
     "iopub.status.busy": "2020-10-16T02:54:15.066598Z",
     "iopub.status.idle": "2020-10-16T02:54:15.093544Z",
     "shell.execute_reply": "2020-10-16T02:54:15.092879Z"
    },
    "papermill": {
     "duration": 0.072409,
     "end_time": "2020-10-16T02:54:15.093672",
     "exception": false,
     "start_time": "2020-10-16T02:54:15.021263",
     "status": "completed"
    },
    "tags": []
   },
   "outputs": [],
   "source": [
    "neutral_news = df[(df['sentiment'] == 2) | (df['sentiment'] == 0)].index\n"
   ]
  },
  {
   "cell_type": "code",
   "execution_count": 8,
   "metadata": {
    "execution": {
     "iopub.execute_input": "2020-10-16T02:54:15.179078Z",
     "iopub.status.busy": "2020-10-16T02:54:15.178278Z",
     "iopub.status.idle": "2020-10-16T02:54:15.184078Z",
     "shell.execute_reply": "2020-10-16T02:54:15.183325Z"
    },
    "papermill": {
     "duration": 0.052289,
     "end_time": "2020-10-16T02:54:15.184205",
     "exception": false,
     "start_time": "2020-10-16T02:54:15.131916",
     "status": "completed"
    },
    "tags": []
   },
   "outputs": [],
   "source": [
    "df.drop(neutral_news, inplace = True) "
   ]
  },
  {
   "cell_type": "code",
   "execution_count": 9,
   "metadata": {
    "execution": {
     "iopub.execute_input": "2020-10-16T02:54:15.266671Z",
     "iopub.status.busy": "2020-10-16T02:54:15.265757Z",
     "iopub.status.idle": "2020-10-16T02:54:15.270160Z",
     "shell.execute_reply": "2020-10-16T02:54:15.269342Z"
    },
    "papermill": {
     "duration": 0.047788,
     "end_time": "2020-10-16T02:54:15.270296",
     "exception": false,
     "start_time": "2020-10-16T02:54:15.222508",
     "status": "completed"
    },
    "tags": []
   },
   "outputs": [
    {
     "data": {
      "text/plain": [
       "9826"
      ]
     },
     "execution_count": 9,
     "metadata": {},
     "output_type": "execute_result"
    }
   ],
   "source": [
    "len(df)"
   ]
  },
  {
   "cell_type": "code",
   "execution_count": 10,
   "metadata": {
    "execution": {
     "iopub.execute_input": "2020-10-16T02:54:15.359549Z",
     "iopub.status.busy": "2020-10-16T02:54:15.355663Z",
     "iopub.status.idle": "2020-10-16T02:54:15.365219Z",
     "shell.execute_reply": "2020-10-16T02:54:15.364497Z"
    },
    "papermill": {
     "duration": 0.055401,
     "end_time": "2020-10-16T02:54:15.365371",
     "exception": false,
     "start_time": "2020-10-16T02:54:15.309970",
     "status": "completed"
    },
    "tags": []
   },
   "outputs": [
    {
     "data": {
      "text/plain": [
       " 1    8530\n",
       "-1    1296\n",
       "Name: sentiment, dtype: int64"
      ]
     },
     "execution_count": 10,
     "metadata": {},
     "output_type": "execute_result"
    }
   ],
   "source": [
    "df.sentiment.value_counts() #distribution of pro to anti sentiments *BALANCE"
   ]
  },
  {
   "cell_type": "code",
   "execution_count": 11,
   "metadata": {
    "execution": {
     "iopub.execute_input": "2020-10-16T02:54:15.455025Z",
     "iopub.status.busy": "2020-10-16T02:54:15.453719Z",
     "iopub.status.idle": "2020-10-16T02:54:15.457620Z",
     "shell.execute_reply": "2020-10-16T02:54:15.458259Z"
    },
    "papermill": {
     "duration": 0.051513,
     "end_time": "2020-10-16T02:54:15.458418",
     "exception": false,
     "start_time": "2020-10-16T02:54:15.406905",
     "status": "completed"
    },
    "tags": []
   },
   "outputs": [
    {
     "data": {
      "text/plain": [
       "pandas.core.frame.DataFrame"
      ]
     },
     "execution_count": 11,
     "metadata": {},
     "output_type": "execute_result"
    }
   ],
   "source": [
    "type(df)"
   ]
  },
  {
   "cell_type": "code",
   "execution_count": 12,
   "metadata": {
    "execution": {
     "iopub.execute_input": "2020-10-16T02:54:15.550821Z",
     "iopub.status.busy": "2020-10-16T02:54:15.549906Z",
     "iopub.status.idle": "2020-10-16T02:54:15.555578Z",
     "shell.execute_reply": "2020-10-16T02:54:15.554788Z"
    },
    "papermill": {
     "duration": 0.055671,
     "end_time": "2020-10-16T02:54:15.555702",
     "exception": false,
     "start_time": "2020-10-16T02:54:15.500031",
     "status": "completed"
    },
    "tags": []
   },
   "outputs": [
    {
     "data": {
      "text/plain": [
       "sentiment    0\n",
       "message      0\n",
       "tweetid      0\n",
       "dtype: int64"
      ]
     },
     "execution_count": 12,
     "metadata": {},
     "output_type": "execute_result"
    }
   ],
   "source": [
    "#check for missing values\n",
    "df.isnull().sum()"
   ]
  },
  {
   "cell_type": "code",
   "execution_count": 13,
   "metadata": {
    "execution": {
     "iopub.execute_input": "2020-10-16T02:54:15.648025Z",
     "iopub.status.busy": "2020-10-16T02:54:15.645669Z",
     "iopub.status.idle": "2020-10-16T02:54:15.652991Z",
     "shell.execute_reply": "2020-10-16T02:54:15.652153Z"
    },
    "papermill": {
     "duration": 0.055544,
     "end_time": "2020-10-16T02:54:15.653121",
     "exception": false,
     "start_time": "2020-10-16T02:54:15.597577",
     "status": "completed"
    },
    "tags": []
   },
   "outputs": [
    {
     "data": {
      "text/plain": [
       "message    0\n",
       "tweetid    0\n",
       "dtype: int64"
      ]
     },
     "execution_count": 13,
     "metadata": {},
     "output_type": "execute_result"
    }
   ],
   "source": [
    "df_test.isnull().sum()"
   ]
  },
  {
   "cell_type": "code",
   "execution_count": 14,
   "metadata": {
    "execution": {
     "iopub.execute_input": "2020-10-16T02:54:15.745448Z",
     "iopub.status.busy": "2020-10-16T02:54:15.744547Z",
     "iopub.status.idle": "2020-10-16T02:54:15.750228Z",
     "shell.execute_reply": "2020-10-16T02:54:15.749515Z"
    },
    "papermill": {
     "duration": 0.056052,
     "end_time": "2020-10-16T02:54:15.750364",
     "exception": false,
     "start_time": "2020-10-16T02:54:15.694312",
     "status": "completed"
    },
    "tags": []
   },
   "outputs": [],
   "source": [
    "df.dropna(inplace=True)"
   ]
  },
  {
   "cell_type": "code",
   "execution_count": 15,
   "metadata": {
    "execution": {
     "iopub.execute_input": "2020-10-16T02:54:15.843310Z",
     "iopub.status.busy": "2020-10-16T02:54:15.840812Z",
     "iopub.status.idle": "2020-10-16T02:54:15.848455Z",
     "shell.execute_reply": "2020-10-16T02:54:15.847660Z"
    },
    "papermill": {
     "duration": 0.056767,
     "end_time": "2020-10-16T02:54:15.848616",
     "exception": false,
     "start_time": "2020-10-16T02:54:15.791849",
     "status": "completed"
    },
    "tags": []
   },
   "outputs": [
    {
     "data": {
      "text/plain": [
       "sentiment    0\n",
       "message      0\n",
       "tweetid      0\n",
       "dtype: int64"
      ]
     },
     "execution_count": 15,
     "metadata": {},
     "output_type": "execute_result"
    }
   ],
   "source": [
    "df.isnull().sum()"
   ]
  },
  {
   "cell_type": "code",
   "execution_count": 16,
   "metadata": {
    "execution": {
     "iopub.execute_input": "2020-10-16T02:54:15.959536Z",
     "iopub.status.busy": "2020-10-16T02:54:15.950696Z",
     "iopub.status.idle": "2020-10-16T02:54:15.963406Z",
     "shell.execute_reply": "2020-10-16T02:54:15.962654Z"
    },
    "papermill": {
     "duration": 0.07269,
     "end_time": "2020-10-16T02:54:15.963568",
     "exception": false,
     "start_time": "2020-10-16T02:54:15.890878",
     "status": "completed"
    },
    "tags": []
   },
   "outputs": [],
   "source": [
    "#remove empty strings\n",
    "blanks = []\n",
    "\n",
    "for i,snt,msg, twid in df.itertuples():\n",
    "    if msg.isspace():\n",
    "        blanks.append(i) #returns index positions for where there is empty string in message col\n"
   ]
  },
  {
   "cell_type": "code",
   "execution_count": 17,
   "metadata": {
    "execution": {
     "iopub.execute_input": "2020-10-16T02:54:16.058504Z",
     "iopub.status.busy": "2020-10-16T02:54:16.057269Z",
     "iopub.status.idle": "2020-10-16T02:54:16.062279Z",
     "shell.execute_reply": "2020-10-16T02:54:16.061433Z"
    },
    "papermill": {
     "duration": 0.055915,
     "end_time": "2020-10-16T02:54:16.062413",
     "exception": false,
     "start_time": "2020-10-16T02:54:16.006498",
     "status": "completed"
    },
    "tags": []
   },
   "outputs": [
    {
     "data": {
      "text/plain": [
       "[]"
      ]
     },
     "execution_count": 17,
     "metadata": {},
     "output_type": "execute_result"
    }
   ],
   "source": [
    "blanks"
   ]
  },
  {
   "cell_type": "code",
   "execution_count": 18,
   "metadata": {
    "execution": {
     "iopub.execute_input": "2020-10-16T02:54:16.158877Z",
     "iopub.status.busy": "2020-10-16T02:54:16.157692Z",
     "iopub.status.idle": "2020-10-16T02:54:16.161523Z",
     "shell.execute_reply": "2020-10-16T02:54:16.160755Z"
    },
    "papermill": {
     "duration": 0.056,
     "end_time": "2020-10-16T02:54:16.161647",
     "exception": false,
     "start_time": "2020-10-16T02:54:16.105647",
     "status": "completed"
    },
    "tags": []
   },
   "outputs": [],
   "source": [
    "df.drop(blanks, inplace = True)"
   ]
  },
  {
   "cell_type": "code",
   "execution_count": 19,
   "metadata": {
    "execution": {
     "iopub.execute_input": "2020-10-16T02:54:16.254947Z",
     "iopub.status.busy": "2020-10-16T02:54:16.253992Z",
     "iopub.status.idle": "2020-10-16T02:54:16.258879Z",
     "shell.execute_reply": "2020-10-16T02:54:16.258077Z"
    },
    "papermill": {
     "duration": 0.053753,
     "end_time": "2020-10-16T02:54:16.259012",
     "exception": false,
     "start_time": "2020-10-16T02:54:16.205259",
     "status": "completed"
    },
    "tags": []
   },
   "outputs": [
    {
     "data": {
      "text/plain": [
       "9826"
      ]
     },
     "execution_count": 19,
     "metadata": {},
     "output_type": "execute_result"
    }
   ],
   "source": [
    "len(df) "
   ]
  },
  {
   "cell_type": "code",
   "execution_count": 20,
   "metadata": {
    "execution": {
     "iopub.execute_input": "2020-10-16T02:54:16.363790Z",
     "iopub.status.busy": "2020-10-16T02:54:16.353217Z",
     "iopub.status.idle": "2020-10-16T02:54:16.374665Z",
     "shell.execute_reply": "2020-10-16T02:54:16.374008Z"
    },
    "papermill": {
     "duration": 0.071296,
     "end_time": "2020-10-16T02:54:16.374815",
     "exception": false,
     "start_time": "2020-10-16T02:54:16.303519",
     "status": "completed"
    },
    "tags": []
   },
   "outputs": [],
   "source": [
    "#remove empty strings\n",
    "blanks_test = []\n",
    "\n",
    "for i,msg, twid in df_test.itertuples():\n",
    "    if msg.isspace():\n",
    "        blanks_test.append(i) #returns index positions for where there is empty string in message col\n"
   ]
  },
  {
   "cell_type": "code",
   "execution_count": 21,
   "metadata": {
    "execution": {
     "iopub.execute_input": "2020-10-16T02:54:16.469541Z",
     "iopub.status.busy": "2020-10-16T02:54:16.468447Z",
     "iopub.status.idle": "2020-10-16T02:54:16.472901Z",
     "shell.execute_reply": "2020-10-16T02:54:16.472128Z"
    },
    "papermill": {
     "duration": 0.053541,
     "end_time": "2020-10-16T02:54:16.473039",
     "exception": false,
     "start_time": "2020-10-16T02:54:16.419498",
     "status": "completed"
    },
    "tags": []
   },
   "outputs": [
    {
     "data": {
      "text/plain": [
       "[]"
      ]
     },
     "execution_count": 21,
     "metadata": {},
     "output_type": "execute_result"
    }
   ],
   "source": [
    "blanks_test"
   ]
  },
  {
   "cell_type": "code",
   "execution_count": 22,
   "metadata": {
    "execution": {
     "iopub.execute_input": "2020-10-16T02:54:16.572863Z",
     "iopub.status.busy": "2020-10-16T02:54:16.571864Z",
     "iopub.status.idle": "2020-10-16T02:54:16.575486Z",
     "shell.execute_reply": "2020-10-16T02:54:16.574641Z"
    },
    "papermill": {
     "duration": 0.05787,
     "end_time": "2020-10-16T02:54:16.575627",
     "exception": false,
     "start_time": "2020-10-16T02:54:16.517757",
     "status": "completed"
    },
    "tags": []
   },
   "outputs": [],
   "source": [
    "df.drop(blanks_test, inplace = True)"
   ]
  },
  {
   "cell_type": "markdown",
   "metadata": {
    "papermill": {
     "duration": 0.05514,
     "end_time": "2020-10-16T02:54:16.684609",
     "exception": false,
     "start_time": "2020-10-16T02:54:16.629469",
     "status": "completed"
    },
    "tags": []
   },
   "source": [
    "Modelling"
   ]
  },
  {
   "cell_type": "code",
   "execution_count": 23,
   "metadata": {
    "execution": {
     "iopub.execute_input": "2020-10-16T02:54:16.792140Z",
     "iopub.status.busy": "2020-10-16T02:54:16.790977Z",
     "iopub.status.idle": "2020-10-16T02:54:16.794811Z",
     "shell.execute_reply": "2020-10-16T02:54:16.794110Z"
    },
    "papermill": {
     "duration": 0.055024,
     "end_time": "2020-10-16T02:54:16.794943",
     "exception": false,
     "start_time": "2020-10-16T02:54:16.739919",
     "status": "completed"
    },
    "tags": []
   },
   "outputs": [],
   "source": [
    "from sklearn.model_selection import train_test_split"
   ]
  },
  {
   "cell_type": "code",
   "execution_count": 24,
   "metadata": {
    "execution": {
     "iopub.execute_input": "2020-10-16T02:54:16.909134Z",
     "iopub.status.busy": "2020-10-16T02:54:16.908096Z",
     "iopub.status.idle": "2020-10-16T02:54:16.912132Z",
     "shell.execute_reply": "2020-10-16T02:54:16.911185Z"
    },
    "papermill": {
     "duration": 0.062199,
     "end_time": "2020-10-16T02:54:16.912280",
     "exception": false,
     "start_time": "2020-10-16T02:54:16.850081",
     "status": "completed"
    },
    "tags": []
   },
   "outputs": [],
   "source": [
    "X = df['message']\n",
    "y = df['sentiment']\n",
    "#y = df[:][['sentiment']]"
   ]
  },
  {
   "cell_type": "code",
   "execution_count": 25,
   "metadata": {
    "execution": {
     "iopub.execute_input": "2020-10-16T02:54:17.014694Z",
     "iopub.status.busy": "2020-10-16T02:54:17.013157Z",
     "iopub.status.idle": "2020-10-16T02:54:17.019426Z",
     "shell.execute_reply": "2020-10-16T02:54:17.020053Z"
    },
    "papermill": {
     "duration": 0.060563,
     "end_time": "2020-10-16T02:54:17.020232",
     "exception": false,
     "start_time": "2020-10-16T02:54:16.959669",
     "status": "completed"
    },
    "tags": []
   },
   "outputs": [
    {
     "data": {
      "text/plain": [
       "(9826,)"
      ]
     },
     "execution_count": 25,
     "metadata": {},
     "output_type": "execute_result"
    }
   ],
   "source": [
    "X.shape"
   ]
  },
  {
   "cell_type": "code",
   "execution_count": 26,
   "metadata": {
    "execution": {
     "iopub.execute_input": "2020-10-16T02:54:17.140147Z",
     "iopub.status.busy": "2020-10-16T02:54:17.134946Z",
     "iopub.status.idle": "2020-10-16T02:54:17.820041Z",
     "shell.execute_reply": "2020-10-16T02:54:17.819309Z"
    },
    "papermill": {
     "duration": 0.749147,
     "end_time": "2020-10-16T02:54:17.820182",
     "exception": false,
     "start_time": "2020-10-16T02:54:17.071035",
     "status": "completed"
    },
    "tags": []
   },
   "outputs": [],
   "source": [
    "vectorizer = TfidfVectorizer(ngram_range=(1,2), min_df=2, stop_words=\"english\")\n",
    "X_vectorized = vectorizer.fit_transform(X)"
   ]
  },
  {
   "cell_type": "code",
   "execution_count": 27,
   "metadata": {
    "execution": {
     "iopub.execute_input": "2020-10-16T02:54:17.924218Z",
     "iopub.status.busy": "2020-10-16T02:54:17.923310Z",
     "iopub.status.idle": "2020-10-16T02:54:17.940950Z",
     "shell.execute_reply": "2020-10-16T02:54:17.939844Z"
    },
    "papermill": {
     "duration": 0.073006,
     "end_time": "2020-10-16T02:54:17.941234",
     "exception": false,
     "start_time": "2020-10-16T02:54:17.868228",
     "status": "completed"
    },
    "tags": []
   },
   "outputs": [],
   "source": [
    "X_train, X_val, y_train, y_val = train_test_split(X_vectorized, y,test_size=0.3, shuffle=True, stratify=y, random_state =17)"
   ]
  },
  {
   "cell_type": "code",
   "execution_count": 28,
   "metadata": {
    "execution": {
     "iopub.execute_input": "2020-10-16T02:54:18.042857Z",
     "iopub.status.busy": "2020-10-16T02:54:18.041981Z",
     "iopub.status.idle": "2020-10-16T02:54:18.047706Z",
     "shell.execute_reply": "2020-10-16T02:54:18.048473Z"
    },
    "papermill": {
     "duration": 0.059434,
     "end_time": "2020-10-16T02:54:18.048647",
     "exception": false,
     "start_time": "2020-10-16T02:54:17.989213",
     "status": "completed"
    },
    "tags": []
   },
   "outputs": [],
   "source": [
    "from sklearn.pipeline import Pipeline\n",
    "from sklearn.feature_extraction.text import TfidfVectorizer\n",
    "from sklearn.svm import LinearSVC"
   ]
  },
  {
   "cell_type": "code",
   "execution_count": 29,
   "metadata": {
    "execution": {
     "iopub.execute_input": "2020-10-16T02:54:18.149104Z",
     "iopub.status.busy": "2020-10-16T02:54:18.148033Z",
     "iopub.status.idle": "2020-10-16T02:54:18.152028Z",
     "shell.execute_reply": "2020-10-16T02:54:18.151262Z"
    },
    "papermill": {
     "duration": 0.05583,
     "end_time": "2020-10-16T02:54:18.152153",
     "exception": false,
     "start_time": "2020-10-16T02:54:18.096323",
     "status": "completed"
    },
    "tags": []
   },
   "outputs": [],
   "source": [
    "text_clf = Pipeline([('clf', LinearSVC())])"
   ]
  },
  {
   "cell_type": "code",
   "execution_count": 30,
   "metadata": {
    "execution": {
     "iopub.execute_input": "2020-10-16T02:54:18.251253Z",
     "iopub.status.busy": "2020-10-16T02:54:18.250205Z",
     "iopub.status.idle": "2020-10-16T02:54:18.297149Z",
     "shell.execute_reply": "2020-10-16T02:54:18.296493Z"
    },
    "papermill": {
     "duration": 0.098489,
     "end_time": "2020-10-16T02:54:18.297289",
     "exception": false,
     "start_time": "2020-10-16T02:54:18.198800",
     "status": "completed"
    },
    "tags": []
   },
   "outputs": [
    {
     "data": {
      "text/plain": [
       "Pipeline(steps=[('clf', LinearSVC())])"
      ]
     },
     "execution_count": 30,
     "metadata": {},
     "output_type": "execute_result"
    }
   ],
   "source": [
    "text_clf.fit(X_train, y_train)"
   ]
  },
  {
   "cell_type": "code",
   "execution_count": 31,
   "metadata": {
    "execution": {
     "iopub.execute_input": "2020-10-16T02:54:18.401247Z",
     "iopub.status.busy": "2020-10-16T02:54:18.400458Z",
     "iopub.status.idle": "2020-10-16T02:54:18.404224Z",
     "shell.execute_reply": "2020-10-16T02:54:18.403624Z"
    },
    "papermill": {
     "duration": 0.060176,
     "end_time": "2020-10-16T02:54:18.404349",
     "exception": false,
     "start_time": "2020-10-16T02:54:18.344173",
     "status": "completed"
    },
    "tags": []
   },
   "outputs": [],
   "source": [
    "predictions = text_clf.predict(X_val)"
   ]
  },
  {
   "cell_type": "code",
   "execution_count": 32,
   "metadata": {
    "execution": {
     "iopub.execute_input": "2020-10-16T02:54:18.505392Z",
     "iopub.status.busy": "2020-10-16T02:54:18.504361Z",
     "iopub.status.idle": "2020-10-16T02:54:18.509196Z",
     "shell.execute_reply": "2020-10-16T02:54:18.508425Z"
    },
    "papermill": {
     "duration": 0.057375,
     "end_time": "2020-10-16T02:54:18.509321",
     "exception": false,
     "start_time": "2020-10-16T02:54:18.451946",
     "status": "completed"
    },
    "tags": []
   },
   "outputs": [
    {
     "data": {
      "text/plain": [
       "array([ 1, -1,  1, ...,  1, -1, -1])"
      ]
     },
     "execution_count": 32,
     "metadata": {},
     "output_type": "execute_result"
    }
   ],
   "source": [
    "predictions"
   ]
  },
  {
   "cell_type": "markdown",
   "metadata": {
    "papermill": {
     "duration": 0.048315,
     "end_time": "2020-10-16T02:54:18.605184",
     "exception": false,
     "start_time": "2020-10-16T02:54:18.556869",
     "status": "completed"
    },
    "tags": []
   },
   "source": [
    "# Checking the performance of our model on the validation set****"
   ]
  },
  {
   "cell_type": "code",
   "execution_count": 33,
   "metadata": {
    "execution": {
     "iopub.execute_input": "2020-10-16T02:54:18.706667Z",
     "iopub.status.busy": "2020-10-16T02:54:18.705833Z",
     "iopub.status.idle": "2020-10-16T02:54:18.709553Z",
     "shell.execute_reply": "2020-10-16T02:54:18.708738Z"
    },
    "papermill": {
     "duration": 0.056779,
     "end_time": "2020-10-16T02:54:18.709682",
     "exception": false,
     "start_time": "2020-10-16T02:54:18.652903",
     "status": "completed"
    },
    "tags": []
   },
   "outputs": [],
   "source": [
    "from sklearn.metrics import confusion_matrix, classification_report, accuracy_score"
   ]
  },
  {
   "cell_type": "code",
   "execution_count": 34,
   "metadata": {
    "execution": {
     "iopub.execute_input": "2020-10-16T02:54:18.811827Z",
     "iopub.status.busy": "2020-10-16T02:54:18.810705Z",
     "iopub.status.idle": "2020-10-16T02:54:18.822641Z",
     "shell.execute_reply": "2020-10-16T02:54:18.821695Z"
    },
    "papermill": {
     "duration": 0.065337,
     "end_time": "2020-10-16T02:54:18.822840",
     "exception": false,
     "start_time": "2020-10-16T02:54:18.757503",
     "status": "completed"
    },
    "tags": []
   },
   "outputs": [
    {
     "name": "stdout",
     "output_type": "stream",
     "text": [
      "[[ 186  203]\n",
      " [  28 2531]]\n"
     ]
    }
   ],
   "source": [
    "print(confusion_matrix(y_val, predictions))"
   ]
  },
  {
   "cell_type": "code",
   "execution_count": 35,
   "metadata": {
    "execution": {
     "iopub.execute_input": "2020-10-16T02:54:18.927739Z",
     "iopub.status.busy": "2020-10-16T02:54:18.926895Z",
     "iopub.status.idle": "2020-10-16T02:54:19.225552Z",
     "shell.execute_reply": "2020-10-16T02:54:19.224920Z"
    },
    "papermill": {
     "duration": 0.354295,
     "end_time": "2020-10-16T02:54:19.225673",
     "exception": false,
     "start_time": "2020-10-16T02:54:18.871378",
     "status": "completed"
    },
    "tags": []
   },
   "outputs": [
    {
     "data": {
      "text/plain": [
       "<matplotlib.axes._subplots.AxesSubplot at 0x7fee03a32150>"
      ]
     },
     "execution_count": 35,
     "metadata": {},
     "output_type": "execute_result"
    },
    {
     "data": {
      "image/png": "[encoded data removed]",
      "text/plain": [
       "<Figure size 720x576 with 2 Axes>"
      ]
     },
     "metadata": {
      "needs_background": "light"
     },
     "output_type": "display_data"
    }
   ],
   "source": [
    "import seaborn as sns\n",
    "from matplotlib import pyplot as plt\n",
    "cf_matrix = confusion_matrix(y_val, predictions)\n",
    "plt.figure(figsize=(10,8))\n",
    "sns.heatmap(cf_matrix, annot=True, fmt='d')"
   ]
  },
  {
   "cell_type": "code",
   "execution_count": 36,
   "metadata": {
    "execution": {
     "iopub.execute_input": "2020-10-16T02:54:19.332464Z",
     "iopub.status.busy": "2020-10-16T02:54:19.331624Z",
     "iopub.status.idle": "2020-10-16T02:54:19.344875Z",
     "shell.execute_reply": "2020-10-16T02:54:19.343996Z"
    },
    "papermill": {
     "duration": 0.06882,
     "end_time": "2020-10-16T02:54:19.345039",
     "exception": false,
     "start_time": "2020-10-16T02:54:19.276219",
     "status": "completed"
    },
    "tags": []
   },
   "outputs": [
    {
     "name": "stdout",
     "output_type": "stream",
     "text": [
      "              precision    recall  f1-score   support\n",
      "\n",
      "          -1       0.87      0.48      0.62       389\n",
      "           1       0.93      0.99      0.96      2559\n",
      "\n",
      "    accuracy                           0.92      2948\n",
      "   macro avg       0.90      0.73      0.79      2948\n",
      "weighted avg       0.92      0.92      0.91      2948\n",
      "\n"
     ]
    }
   ],
   "source": [
    "print(classification_report(y_val, predictions))"
   ]
  },
  {
   "cell_type": "code",
   "execution_count": 37,
   "metadata": {
    "execution": {
     "iopub.execute_input": "2020-10-16T02:54:19.453943Z",
     "iopub.status.busy": "2020-10-16T02:54:19.453122Z",
     "iopub.status.idle": "2020-10-16T02:54:19.461818Z",
     "shell.execute_reply": "2020-10-16T02:54:19.461154Z"
    },
    "papermill": {
     "duration": 0.065692,
     "end_time": "2020-10-16T02:54:19.461946",
     "exception": false,
     "start_time": "2020-10-16T02:54:19.396254",
     "status": "completed"
    },
    "tags": []
   },
   "outputs": [
    {
     "data": {
      "text/plain": [
       "0.7866364380628503"
      ]
     },
     "execution_count": 37,
     "metadata": {},
     "output_type": "execute_result"
    }
   ],
   "source": [
    "f1_score(y_val, predictions, average=\"macro\")"
   ]
  },
  {
   "cell_type": "code",
   "execution_count": 38,
   "metadata": {
    "execution": {
     "iopub.execute_input": "2020-10-16T02:54:19.571128Z",
     "iopub.status.busy": "2020-10-16T02:54:19.570215Z",
     "iopub.status.idle": "2020-10-16T02:54:19.576413Z",
     "shell.execute_reply": "2020-10-16T02:54:19.575705Z"
    },
    "papermill": {
     "duration": 0.063486,
     "end_time": "2020-10-16T02:54:19.576545",
     "exception": false,
     "start_time": "2020-10-16T02:54:19.513059",
     "status": "completed"
    },
    "tags": []
   },
   "outputs": [
    {
     "name": "stdout",
     "output_type": "stream",
     "text": [
      "0.9216417910447762\n"
     ]
    }
   ],
   "source": [
    "print(accuracy_score(y_val, predictions))"
   ]
  },
  {
   "cell_type": "markdown",
   "metadata": {
    "papermill": {
     "duration": 0.050506,
     "end_time": "2020-10-16T02:54:19.678307",
     "exception": false,
     "start_time": "2020-10-16T02:54:19.627801",
     "status": "completed"
    },
    "tags": []
   },
   "source": [
    "**Getting our test set ready**"
   ]
  },
  {
   "cell_type": "code",
   "execution_count": 39,
   "metadata": {
    "execution": {
     "iopub.execute_input": "2020-10-16T02:54:19.820554Z",
     "iopub.status.busy": "2020-10-16T02:54:19.810176Z",
     "iopub.status.idle": "2020-10-16T02:54:20.311525Z",
     "shell.execute_reply": "2020-10-16T02:54:20.312139Z"
    },
    "papermill": {
     "duration": 0.58299,
     "end_time": "2020-10-16T02:54:20.312327",
     "exception": false,
     "start_time": "2020-10-16T02:54:19.729337",
     "status": "completed"
    },
    "tags": []
   },
   "outputs": [],
   "source": [
    "test_x = df_test['message']\n",
    "test_vect = vectorizer.transform(test_x)"
   ]
  },
  {
   "cell_type": "markdown",
   "metadata": {
    "papermill": {
     "duration": 0.051178,
     "end_time": "2020-10-16T02:54:20.414843",
     "exception": false,
     "start_time": "2020-10-16T02:54:20.363665",
     "status": "completed"
    },
    "tags": []
   },
   "source": [
    "**Making predictions on the test set and adding a sentiment column to our original test df**"
   ]
  },
  {
   "cell_type": "code",
   "execution_count": 40,
   "metadata": {
    "execution": {
     "iopub.execute_input": "2020-10-16T02:54:20.525470Z",
     "iopub.status.busy": "2020-10-16T02:54:20.524671Z",
     "iopub.status.idle": "2020-10-16T02:54:20.528887Z",
     "shell.execute_reply": "2020-10-16T02:54:20.528258Z"
    },
    "papermill": {
     "duration": 0.061027,
     "end_time": "2020-10-16T02:54:20.529020",
     "exception": false,
     "start_time": "2020-10-16T02:54:20.467993",
     "status": "completed"
    },
    "tags": []
   },
   "outputs": [],
   "source": [
    "y_pred = text_clf.predict(test_vect)"
   ]
  },
  {
   "cell_type": "code",
   "execution_count": 41,
   "metadata": {
    "execution": {
     "iopub.execute_input": "2020-10-16T02:54:20.640102Z",
     "iopub.status.busy": "2020-10-16T02:54:20.639305Z",
     "iopub.status.idle": "2020-10-16T02:54:20.642170Z",
     "shell.execute_reply": "2020-10-16T02:54:20.642743Z"
    },
    "papermill": {
     "duration": 0.061569,
     "end_time": "2020-10-16T02:54:20.642935",
     "exception": false,
     "start_time": "2020-10-16T02:54:20.581366",
     "status": "completed"
    },
    "tags": []
   },
   "outputs": [],
   "source": [
    "df_test['sentiment'] = y_pred"
   ]
  },
  {
   "cell_type": "code",
   "execution_count": 42,
   "metadata": {
    "execution": {
     "iopub.execute_input": "2020-10-16T02:54:20.757756Z",
     "iopub.status.busy": "2020-10-16T02:54:20.756794Z",
     "iopub.status.idle": "2020-10-16T02:54:20.762039Z",
     "shell.execute_reply": "2020-10-16T02:54:20.761384Z"
    },
    "papermill": {
     "duration": 0.067409,
     "end_time": "2020-10-16T02:54:20.762165",
     "exception": false,
     "start_time": "2020-10-16T02:54:20.694756",
     "status": "completed"
    },
    "tags": []
   },
   "outputs": [
    {
     "data": {
      "text/html": [
       "<div>\n",
       "<style scoped>\n",
       "    .dataframe tbody tr th:only-of-type {\n",
       "        vertical-align: middle;\n",
       "    }\n",
       "\n",
       "    .dataframe tbody tr th {\n",
       "        vertical-align: top;\n",
       "    }\n",
       "\n",
       "    .dataframe thead th {\n",
       "        text-align: right;\n",
       "    }\n",
       "</style>\n",
       "<table border=\"1\" class=\"dataframe\">\n",
       "  <thead>\n",
       "    <tr style=\"text-align: right;\">\n",
       "      <th></th>\n",
       "      <th>message</th>\n",
       "      <th>tweetid</th>\n",
       "      <th>sentiment</th>\n",
       "    </tr>\n",
       "  </thead>\n",
       "  <tbody>\n",
       "    <tr>\n",
       "      <th>0</th>\n",
       "      <td>Europe will now be looking to China to make su...</td>\n",
       "      <td>169760</td>\n",
       "      <td>1</td>\n",
       "    </tr>\n",
       "    <tr>\n",
       "      <th>1</th>\n",
       "      <td>Combine this with the polling of staffers re c...</td>\n",
       "      <td>35326</td>\n",
       "      <td>1</td>\n",
       "    </tr>\n",
       "    <tr>\n",
       "      <th>2</th>\n",
       "      <td>The scary, unimpeachable evidence that climate...</td>\n",
       "      <td>224985</td>\n",
       "      <td>1</td>\n",
       "    </tr>\n",
       "    <tr>\n",
       "      <th>3</th>\n",
       "      <td>@Karoli @morgfair @OsborneInk @dailykos \\nPuti...</td>\n",
       "      <td>476263</td>\n",
       "      <td>1</td>\n",
       "    </tr>\n",
       "    <tr>\n",
       "      <th>4</th>\n",
       "      <td>RT @FakeWillMoore: 'Female orgasms cause globa...</td>\n",
       "      <td>872928</td>\n",
       "      <td>1</td>\n",
       "    </tr>\n",
       "  </tbody>\n",
       "</table>\n",
       "</div>"
      ],
      "text/plain": [
       "                                             message  tweetid  sentiment\n",
       "0  Europe will now be looking to China to make su...   169760          1\n",
       "1  Combine this with the polling of staffers re c...    35326          1\n",
       "2  The scary, unimpeachable evidence that climate...   224985          1\n",
       "3  @Karoli @morgfair @OsborneInk @dailykos \\nPuti...   476263          1\n",
       "4  RT @FakeWillMoore: 'Female orgasms cause globa...   872928          1"
      ]
     },
     "execution_count": 42,
     "metadata": {},
     "output_type": "execute_result"
    }
   ],
   "source": [
    "df_test.head()"
   ]
  },
  {
   "cell_type": "markdown",
   "metadata": {
    "papermill": {
     "duration": 0.052708,
     "end_time": "2020-10-16T02:54:20.867593",
     "exception": false,
     "start_time": "2020-10-16T02:54:20.814885",
     "status": "completed"
    },
    "tags": []
   },
   "source": [
    "**Creating an output csv for submission**"
   ]
  },
  {
   "cell_type": "code",
   "execution_count": 43,
   "metadata": {
    "execution": {
     "iopub.execute_input": "2020-10-16T02:54:20.984344Z",
     "iopub.status.busy": "2020-10-16T02:54:20.983215Z",
     "iopub.status.idle": "2020-10-16T02:54:21.345477Z",
     "shell.execute_reply": "2020-10-16T02:54:21.344598Z"
    },
    "papermill": {
     "duration": 0.424771,
     "end_time": "2020-10-16T02:54:21.345618",
     "exception": false,
     "start_time": "2020-10-16T02:54:20.920847",
     "status": "completed"
    },
    "tags": []
   },
   "outputs": [],
   "source": [
    "df_test[['tweetid','sentiment']].to_csv('testsubmission_SVC.csv', index=False)"
   ]
  }
 ],
 "metadata": {
  "kernelspec": {
   "display_name": "Python 3",
   "language": "python",
   "name": "python3"
  },
  "language_info": {
   "codemirror_mode": {
    "name": "ipython",
    "version": 3
   },
   "file_extension": ".py",
   "mimetype": "text/x-python",
   "name": "python",
   "nbconvert_exporter": "python",
   "pygments_lexer": "ipython3",
   "version": "3.7.6"
  },
  "papermill": {
   "duration": 14.709057,
   "end_time": "2020-10-16T02:54:21.508035",
   "environment_variables": {},
   "exception": null,
   "input_path": "__notebook__.ipynb",
   "output_path": "__notebook__.ipynb",
   "parameters": {},
   "start_time": "2020-10-16T02:54:06.798978",
   "version": "2.1.0"
  }
 },
 "nbformat": 4,
 "nbformat_minor": 4
}
